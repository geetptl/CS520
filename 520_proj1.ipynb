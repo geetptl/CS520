{
 "cells": [
  {
   "cell_type": "code",
   "execution_count": 27,
   "id": "2f408128-dbb0-49d4-ba74-62df2f540241",
   "metadata": {},
   "outputs": [],
   "source": [
    "import numpy as np\n",
    "import random\n",
    "from matplotlib import pyplot as plt\n",
    "import matplotlib.colors as mcolors\n",
    "from matplotlib.colors import ListedColormap, LinearSegmentedColormap\n",
    "\n",
    "from datetime import date"
   ]
  },
  {
   "cell_type": "code",
   "execution_count": 34,
   "id": "1a1256c1-94de-42c9-9e2d-5dbfdcde24c5",
   "metadata": {},
   "outputs": [],
   "source": [
    "# Constants\n",
    "\n",
    "NOT_VISITED = -1\n",
    "UNBLOCKED = 0\n",
    "BLOCKED = 1\n",
    "START = 2\n",
    "KNOWN_UNBLOCKED = 3\n",
    "KNOWN_BLOCKED = 4\n",
    "END = 5\n",
    "\n",
    "COLORMAP = {\n",
    "    NOT_VISITED : np.array([127,127,127]),\n",
    "    UNBLOCKED : np.array([255,255,255]),\n",
    "    BLOCKED : np.array([0,0,0]),\n",
    "    START : np.array([255,0,0]),\n",
    "    KNOWN_UNBLOCKED : np.array([248,131,121]),\n",
    "    KNOWN_BLOCKED : np.array([0,255,0]),\n",
    "    END : np.array([0,0,255])\n",
    "}\n",
    "\n",
    "TEST_WORLDS = 5\n",
    "TEST_WORLD_SIZE = 20\n",
    "\n",
    "OUTPUT_BASE_PATH = \"Outputs/\"\n",
    "TODAY = date.today()"
   ]
  },
  {
   "cell_type": "code",
   "execution_count": 29,
   "id": "26586f8b-dbab-44d4-a4e5-37a472e8eaca",
   "metadata": {},
   "outputs": [],
   "source": [
    "def calculateNeighbours(location, t_size):\n",
    "    # We first calculate all 9 cells in the neighbourhood,\n",
    "    # and then filter out itself and the ones in the cross\n",
    "    # by filtering elements with manhattan distance not equal to one.\n",
    "    return list(filter(lambda x: abs(location[0]-x[0])+abs(location[1]-x[1])==1, [(x,y) for x in range(location[0]-1 if location[0]-1 > -1 else 0, location[0]+2 if location[0]+1<t_size else t_size) for y in range(location[1]-1 if location[1]-1 > -1 else 0, location[1]+2 if location[1]+1<t_size else t_size)]))"
   ]
  },
  {
   "cell_type": "code",
   "execution_count": 30,
   "id": "e410894e-4daf-4027-8493-434aceb41ccb",
   "metadata": {},
   "outputs": [],
   "source": [
    "def getRandomCoordinates(t_size):\n",
    "    # Returns a tuple of coordinnates\n",
    "    return (random.randint(0, t_size - 1), random.randint(0, t_size-1))\n",
    "\n",
    "def getRandomCoordinatesInQuarter(t_size, quarter):\n",
    "    # Returns a tuple of coordinnates\n",
    "    t = t_size - 1\n",
    "    x = (0,int(t/4)) if quarter[0]==0 else (int(3*t/4), t)\n",
    "    y = (0,int(t/4)) if quarter[1]==0 else (int(3*t/4), t)\n",
    "    return (random.randint(x[0], x[1]), random.randint(y[0], y[1]))"
   ]
  },
  {
   "cell_type": "code",
   "execution_count": 31,
   "id": "ccfed230-390c-41ce-ba8e-64733c5451db",
   "metadata": {},
   "outputs": [],
   "source": [
    "def generateGrid(t_size):\n",
    "    # Initially all cells are set as not visited\n",
    "    # 1 marks blocked, 0 marks unblocked, -1 for not visited\n",
    "    grid = np.full(shape = (t_size, t_size), fill_value = NOT_VISITED, dtype = np.int8)\n",
    "\n",
    "    # A random location on the grid to begin with, and mark it visited\n",
    "    begin = getRandomCoordinates(t_size)\n",
    "    grid[begin[0], begin[1]] = BLOCKED\n",
    "\n",
    "    # Using a stack as a frontier, so we can use DFS to generate the blocked paths\n",
    "    frontier = []\n",
    "    frontier.append(begin)\n",
    "    while(len(frontier) > 0):\n",
    "        current = frontier.pop()\n",
    "        # Calculating the current's neighbours\n",
    "        neighbours = calculateNeighbours(current, t_size)\n",
    "        for nx,ny in neighbours:\n",
    "            if grid[nx,ny] == NOT_VISITED:\n",
    "                # If the location is not visited, add it to the frontier\n",
    "                frontier.append((nx,ny))\n",
    "                # Mark it blocked or unblocked randomly\n",
    "                grid[nx,ny] = BLOCKED if random.random() > 0.7 else UNBLOCKED\n",
    "    return grid"
   ]
  },
  {
   "cell_type": "code",
   "execution_count": 32,
   "id": "cf41ceda-be1f-4815-b8ae-c3f373239ae1",
   "metadata": {},
   "outputs": [],
   "source": [
    "def showGrid(grid, name):\n",
    "    # Fancypants util that makes use of predefined colours\n",
    "    # for each data value in the grid and makes it easier to visualise\n",
    "    plt.xticks([])\n",
    "    plt.yticks([])\n",
    "    plt.imshow(X = [[COLORMAP[e] for e in row] for row in grid])\n",
    "    plt.savefig(OUTPUT_BASE_PATH + TODAY.strftime(\"%d-%m-%Y\") + \"-\" + name + \".png\", bbox_inches=\"tight\")"
   ]
  },
  {
   "cell_type": "code",
   "execution_count": 35,
   "id": "792e3e27-c00f-4e32-964a-a55854dd55f4",
   "metadata": {},
   "outputs": [
    {
     "data": {
      "image/png": "[encoded data removed]",
      "text/plain": [
       "<Figure size 640x480 with 1 Axes>"
      ]
     },
     "metadata": {},
     "output_type": "display_data"
    }
   ],
   "source": [
    "grid = generateGrid(TEST_WORLD_SIZE)\n",
    "start = getRandomCoordinatesInQuarter(TEST_WORLD_SIZE, (0,0))\n",
    "reach = getRandomCoordinatesInQuarter(TEST_WORLD_SIZE, (1,1))\n",
    "grid[start] = START\n",
    "grid[reach] = END\n",
    "\n",
    "showGrid(grid, \"base_environment\")"
   ]
  }
 ],
 "metadata": {
  "kernelspec": {
   "display_name": "Python 3 (ipykernel)",
   "language": "python",
   "name": "python3"
  },
  "language_info": {
   "codemirror_mode": {
    "name": "ipython",
    "version": 3
   },
   "file_extension": ".py",
   "mimetype": "text/x-python",
   "name": "python",
   "nbconvert_exporter": "python",
   "pygments_lexer": "ipython3",
   "version": "3.8.10"
  }
 },
 "nbformat": 4,
 "nbformat_minor": 5
}
