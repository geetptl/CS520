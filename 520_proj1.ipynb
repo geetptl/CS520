{
 "cells": [
  {
   "cell_type": "code",
   "execution_count": 16,
   "id": "7df35ca5-7945-40a4-96a2-5981b8279f62",
   "metadata": {},
   "outputs": [],
   "source": [
    "import numpy as np\n",
    "import random\n",
    "from matplotlib import pyplot as plt\n",
    "import matplotlib.colors as mcolors\n",
    "from matplotlib.colors import ListedColormap, LinearSegmentedColormap\n",
    "from operator import itemgetter, attrgetter\n",
    "from datetime import date\n",
    "from queue import PriorityQueue\n"
   ]
  },
  {
   "cell_type": "code",
   "execution_count": 118,
   "id": "69875272-8fea-45bc-bf21-edd427630caa",
   "metadata": {},
   "outputs": [],
   "source": [
    "# Constants\n",
    "\n",
    "NOT_VISITED = -1\n",
    "UNBLOCKED = 0\n",
    "BLOCKED = 1\n",
    "START = 2\n",
    "END = 3\n",
    "KNOWN_UNBLOCKED = 4\n",
    "KNOWN_BLOCKED = 5\n",
    "KNOWN_DEADEND = 6\n",
    "\n",
    "COLORMAP = {\n",
    "    NOT_VISITED : np.array([127,127,127]),\n",
    "    UNBLOCKED : np.array([255,255,255]),\n",
    "    BLOCKED : np.array([0,0,0]),\n",
    "    START : np.array([255,0,0]),\n",
    "    END : np.array([0,127,255]),\n",
    "    KNOWN_UNBLOCKED : np.array([248,131,121]),\n",
    "    KNOWN_BLOCKED : np.array([0,255,0]),\n",
    "    KNOWN_DEADEND : np.array([0,255,255])\n",
    "}\n",
    "\n",
    "TEST_WORLDS = 5\n",
    "TEST_WORLD_SIZE = 10\n",
    "\n",
    "OUTPUT_BASE_PATH = \"Outputs/\"\n",
    "TODAY = date.today()"
   ]
  },
  {
   "cell_type": "code",
   "execution_count": 119,
   "id": "2ac4d281-4ed5-40d9-a1e7-572401e0fbbf",
   "metadata": {},
   "outputs": [
    {
     "name": "stdout",
     "output_type": "stream",
     "text": [
      "[(1, 'a'), (2, 'c'), (1, 'e'), (3, 'a')]\n",
      "(1, 'a')\n",
      "[(1, 'e'), (2, 'c'), (3, 'a')]\n",
      "(1, 'e')\n",
      "4\n",
      "[(-1, 'a'), (1, 'e'), (3, 'a'), (2, 'c')]\n",
      "(-1, 'a')\n",
      "(-1, 'a')\n",
      "(1, 'e')\n",
      "(2, 'c')\n",
      "(3, 'a')\n"
     ]
    }
   ],
   "source": [
    "class MinHeap:\n",
    "    def __init__(self):\n",
    "        self.elements = []\n",
    "        self.size = 0\n",
    "    def heapifyUpwards(self, i):\n",
    "        while i != 0:\n",
    "            p = (i - 1) // 2\n",
    "            if self.elements[i][0] < self.elements[p][0]:\n",
    "                self.elements[i], self.elements[p] = self.elements[p], self.elements[i]\n",
    "            i = p\n",
    "\n",
    "    def heapifyDownwards(self, i):\n",
    "        while i < self.size:\n",
    "            if 2 * (i + 1) >= self.size:\n",
    "                m = (2 * i) + 1\n",
    "            else:\n",
    "                m = (2 * i) + 1 if self.elements[(2 * i) + 1][0] < self.elements[2 * (i + 1)][0] else 2 * (i + 1)\n",
    "            if m>=self.size:\n",
    "                break\n",
    "            if self.elements[m][0] < self.elements[i][0]:\n",
    "                self.elements[i], self.elements[m] = self.elements[m], self.elements[i]\n",
    "            i = m\n",
    "    def length(self):\n",
    "        count=0\n",
    "        i=0\n",
    "        while i < self.size:\n",
    "            count = count+1\n",
    "            i = i+1\n",
    "        return count\n",
    "    def insert(self, k):\n",
    "        self.elements.append(k)\n",
    "        self.size+=1\n",
    "        self.heapifyUpwards(self.size-1)\n",
    "\n",
    "    def peek(self):\n",
    "        print(self.elements)\n",
    "        return self.elements[0]\n",
    "\n",
    "    def pop(self):\n",
    "        k = self.elements[0]\n",
    "        self.elements[0] = self.elements[-1]\n",
    "        del self.elements[-1]\n",
    "        self.size-=1\n",
    "        self.heapifyDownwards(0)\n",
    "        return k\n",
    "\n",
    "m = MinHeap()\n",
    "m.insert((1,'a'))\n",
    "m.insert((2,'c'))\n",
    "m.insert((1,'e'))\n",
    "m.insert((3,'a'))\n",
    "print(m.peek())\n",
    "m.pop()\n",
    "print(m.peek())\n",
    "m.insert((-1,'a'))\n",
    "print(m.length())\n",
    "print(m.peek())\n",
    "print(m.pop())\n",
    "print(m.pop())\n",
    "print(m.pop())\n",
    "print(m.pop())\n"
   ]
  },
  {
   "cell_type": "code",
   "execution_count": 120,
   "id": "df51b919-bea5-4d81-972f-6686a7337b06",
   "metadata": {},
   "outputs": [],
   "source": [
    "def calculateAllNeighbours(location, t_size):\n",
    "    # We first calculate all 9 cells in the neighbourhood,\n",
    "    # and then filter out itself and the ones in the cross\n",
    "    # by filtering elements with manhattan distance not equal to one.\n",
    "    return list(filter(lambda x: abs(location[0]-x[0])+abs(location[1]-x[1])==1, [(x,y) for x in range(location[0]-1 if location[0]-1 > -1 else 0, location[0]+2 if location[0]+1<t_size else t_size) for y in range(location[1]-1 if location[1]-1 > -1 else 0, location[1]+2 if location[1]+1<t_size else t_size)]))"
   ]
  },
  {
   "cell_type": "code",
   "execution_count": 121,
   "id": "9aab9488-c35b-4ad9-80b1-8d3ea7b5c160",
   "metadata": {},
   "outputs": [],
   "source": [
    "def getRandomCoordinates(t_size):\n",
    "    # Returns a tuple of coordinnates\n",
    "    return (random.randint(0, t_size - 1), random.randint(0, t_size-1))\n",
    "\n",
    "def getRandomCoordinatesInQuarter(t_size, quarter):\n",
    "    # Returns a tuple of coordinnates\n",
    "    t = t_size - 1\n",
    "    x = (0,int(t/4)) if quarter[0]==0 else (int(3*t/4), t)\n",
    "    y = (0,int(t/4)) if quarter[1]==0 else (int(3*t/4), t)\n",
    "    return (random.randint(x[0], x[1]), random.randint(y[0], y[1]))"
   ]
  },
  {
   "cell_type": "code",
   "execution_count": 122,
   "id": "1906865c-4ff0-468e-b153-567271690319",
   "metadata": {},
   "outputs": [],
   "source": [
    "def generateEnvironment(t_size):\n",
    "    # Initially all cells are set as not visited\n",
    "    # 1 marks blocked, 0 marks unblocked, -1 for not visited\n",
    "    grid = np.full(shape = (t_size, t_size), fill_value = NOT_VISITED, dtype = np.int8)\n",
    "\n",
    "    # A random location on the grid to begin with, and mark it visited\n",
    "    begin = getRandomCoordinates(t_size)\n",
    "    grid[begin[0], begin[1]] = BLOCKED\n",
    "\n",
    "    # Using a stack as a frontier, so we can use DFS to generate the blocked paths\n",
    "    frontier = []\n",
    "    frontier.append(begin)\n",
    "    while(len(frontier) > 0):\n",
    "        current = frontier.pop()\n",
    "        # Calculating the current's neighbours\n",
    "        neighbours = calculateAllNeighbours(current, t_size)\n",
    "        for nx,ny in neighbours:\n",
    "            if grid[nx,ny] == NOT_VISITED:\n",
    "                # If the location is not visited, add it to the frontier\n",
    "                frontier.append((nx,ny))\n",
    "                # Mark it blocked or unblocked randomly\n",
    "                grid[nx,ny] = BLOCKED if random.random() > 0.7 else UNBLOCKED\n",
    "    start = getRandomCoordinatesInQuarter(TEST_WORLD_SIZE, (0,0))\n",
    "    reach = getRandomCoordinatesInQuarter(TEST_WORLD_SIZE, (1,1))\n",
    "    grid[start] = START\n",
    "    grid[reach] = END\n",
    "    return grid, start, reach"
   ]
  },
  {
   "cell_type": "code",
   "execution_count": 123,
   "id": "a52fc0c2-8816-4ae9-a0d4-49fdd7245b94",
   "metadata": {},
   "outputs": [],
   "source": [
    "def showGrid(grid, name):\n",
    "    # Fancypants util that makes use of predefined colours\n",
    "    # for each data value in the grid and makes it easier to visualise\n",
    "    plt.xticks([])\n",
    "    plt.yticks([])\n",
    "    plt.imshow(X = [[COLORMAP[e] for e in row] for row in grid])\n",
    "    plt.savefig(OUTPUT_BASE_PATH + TODAY.strftime(\"%d-%m-%Y\") + \"-\" + name + \".png\", bbox_inches=\"tight\")"
   ]
  },
  {
   "cell_type": "code",
   "execution_count": 124,
   "id": "0188ab0e-00dc-428e-97bd-e57e827944b9",
   "metadata": {},
   "outputs": [],
   "source": [
    "def initAgentKnowlegde(grid, start, reach):\n",
    "    agentKnowledge = np.full(shape = grid.shape, fill_value = NOT_VISITED, dtype = np.int8)\n",
    "    agentKnowledge[start] = START\n",
    "    agentKnowledge[reach] = END\n",
    "    return agentKnowledge"
   ]
  },
  {
   "cell_type": "code",
   "execution_count": 125,
   "id": "b3b9c7ec-ac6c-4e55-8cad-bd3abba681f5",
   "metadata": {},
   "outputs": [],
   "source": [
    "def manhattanDistance(pos1, pos2):\n",
    "    # pos1 and pos2 are coordinates\n",
    "    return abs(pos2[1] - pos1[1]) + abs(pos2[0] - pos1[0])"
   ]
  },
  {
   "cell_type": "code",
   "execution_count": 156,
   "id": "35dbb4b3-826f-4940-8002-6f8463d062f5",
   "metadata": {},
   "outputs": [
    {
     "data": {
      "image/png": "[encoded data removed]",
      "text/plain": [
       "<Figure size 640x480 with 1 Axes>"
      ]
     },
     "metadata": {},
     "output_type": "display_data"
    }
   ],
   "source": [
    "environment, start, reach = generateEnvironment(TEST_WORLD_SIZE)\n",
    "showGrid(environment, \"base_environment\")"
   ]
  },
  {
   "cell_type": "code",
   "execution_count": 157,
   "id": "e35905ce-827b-4c5c-8d83-86cb77677e57",
   "metadata": {},
   "outputs": [
    {
     "data": {
      "image/png": "[encoded data removed]",
      "text/plain": [
       "<Figure size 640x480 with 1 Axes>"
      ]
     },
     "metadata": {},
     "output_type": "display_data"
    }
   ],
   "source": [
    "agentKnowledge = initAgentKnowlegde(environment, start, reach)\n",
    "showGrid(agentKnowledge, \"agent_starts_with\")"
   ]
  },
  {
   "cell_type": "code",
   "execution_count": 158,
   "id": "f5722bef-6e0e-4c27-a1bf-a39bb305e6eb",
   "metadata": {},
   "outputs": [],
   "source": [
    "def maxEvaluatedNeighbour(LeafNodes, evaluationFunction, environment):\n",
    "    neighbourOrder = []\n",
    "    for i,j in LeafNodes:\n",
    "        neighbourOrder.append((i,j,evaluationFunction[i,j]))\n",
    "    return sorted(neighbourOrder, key=itemgetter(2), reverse=True)"
   ]
  },
  {
   "cell_type": "code",
   "execution_count": 159,
   "id": "316aef93-8c35-417a-9f68-ba119bea14ed",
   "metadata": {},
   "outputs": [],
   "source": [
    "def AStar(environment, agentKnowledge, start, reach):\n",
    "    ## Function g(s) initialization\n",
    "    gcostFunction = np.full(shape = environment.shape, fill_value = 0, dtype = np.int64)\n",
    "    ## Functon h(s) initialization\n",
    "    hueristicFunction  = np.full(shape = environment.shape, fill_value = 0, dtype = np.int64)\n",
    "    ## Function f(s) \n",
    "    evaluationFunction = np.full(shape = environment.shape, fill_value = 0, dtype = np.int64)\n",
    "    priorityOpenList = MinHeap()\n",
    "    path = [] \n",
    "    pathlength = 0\n",
    "    ## Structure similar to DFS. \n",
    "    openList = []\n",
    "    closeList = []\n",
    "    target = []\n",
    "    newNeighbours = []\n",
    "    #openList.append(start)\n",
    "    gcostFunction[start[0],start[1]] = 0\n",
    "    hueristicFunction[start[0],start[1]] = manhattanDistance(start,reach)\n",
    "    evaluationFunction[start[0],start[1]] = gcostFunction[start[0],start[1]] + hueristicFunction[start[0],start[1]] \n",
    "    #priorityOpenList.put((evaluationFunction[start[0],start[1]],start))\n",
    "    priorityOpenList.insert((evaluationFunction[start[0],start[1]],start))\n",
    "    while(priorityOpenList.length()>0):\n",
    "        current = priorityOpenList.pop()\n",
    "        closeList.append(current[1])\n",
    "        pathlength = pathlength + 1\n",
    "        if current[1] == reach:\n",
    "            return \"CellFound\", closeList, hueristicFunction, evaluationFunction\n",
    "        LeafNodes = list(filter(lambda x: environment[x]==UNBLOCKED or environment[x]==END or environment[x]==START , calculateAllNeighbours(current[1], TEST_WORLD_SIZE)))\n",
    "        for nx,ny in LeafNodes:\n",
    "            #print(current[1],(nx,ny))\n",
    "            if (nx,ny) in closeList:\n",
    "                continue\n",
    "            else:\n",
    "                gcostFunction[nx,ny] = gcostFunction[current[1]] + 1\n",
    "                hueristicFunction[nx,ny] = manhattanDistance((nx,ny),reach)\n",
    "                evaluationFunction[nx,ny] = gcostFunction[nx,ny] + hueristicFunction[nx,ny]\n",
    "                #print((nx,ny),gcostFunction[nx,ny],hueristicFunction[nx,ny],evaluationFunction[nx,ny])\n",
    "                priorityOpenList.insert((evaluationFunction[nx,ny],(nx,ny)))\n",
    "                #print(closeList)\n",
    "                \n",
    "\n",
    "    return \"NotFound\", hueristicFunction, evaluationFunction, len(newNeighbours), reach"
   ]
  },
  {
   "cell_type": "code",
   "execution_count": 160,
   "id": "0dd3b3a9-d475-4e0d-a541-dc3334979477",
   "metadata": {},
   "outputs": [
    {
     "data": {
      "text/plain": [
       "('NotFound',\n",
       " array([[ 0, 17, 16,  0, 14,  0, 12, 11, 10,  0],\n",
       "        [17, 16,  0, 14, 13, 12,  0, 10,  9,  0],\n",
       "        [ 0, 15,  0, 13,  0, 11, 10,  9,  0,  0],\n",
       "        [15, 14, 13, 12,  0,  0,  0,  8,  7,  0],\n",
       "        [14, 13, 12, 11,  0,  9,  8,  7,  6,  5],\n",
       "        [13, 12,  0,  0,  9,  8,  7,  0,  0,  0],\n",
       "        [12, 11, 10,  9,  8,  7,  6,  5,  4,  0],\n",
       "        [11, 10,  0,  8,  7,  0,  5,  0,  0,  0],\n",
       "        [10,  0,  8,  7,  6,  5,  0,  0,  0,  0],\n",
       "        [ 9,  8,  7,  0,  5,  0,  0,  0,  0,  0]]),\n",
       " array([[ 0, 17, 17,  0, 25,  0, 29, 27, 27,  0],\n",
       "        [19, 17,  0, 23, 23, 23,  0, 25, 25,  0],\n",
       "        [ 0, 17,  0, 21,  0, 23, 23, 23,  0,  0],\n",
       "        [21, 17, 17, 19,  0,  0,  0, 25, 23,  0],\n",
       "        [19, 17, 17, 17,  0, 23, 21, 21, 21, 21],\n",
       "        [19, 17,  0,  0, 23, 21, 19,  0,  0,  0],\n",
       "        [19, 17, 17, 17, 17, 17, 17, 17, 17,  0],\n",
       "        [19, 17,  0, 17, 17,  0, 17,  0,  0,  0],\n",
       "        [19,  0, 21, 17, 17, 17,  0,  0,  0,  0],\n",
       "        [19, 19, 19,  0, 17,  0,  0,  0,  0,  0]]),\n",
       " 0,\n",
       " (9, 9))"
      ]
     },
     "execution_count": 160,
     "metadata": {},
     "output_type": "execute_result"
    }
   ],
   "source": [
    "AStar(environment, agentKnowledge, start, reach)"
   ]
  },
  {
   "cell_type": "code",
   "execution_count": null,
   "id": "5b1727d9-2fe5-4b2d-abff-03b9698213e4",
   "metadata": {},
   "outputs": [],
   "source": []
  },
  {
   "cell_type": "code",
   "execution_count": null,
   "id": "796ec306-0731-4ecf-8546-a5c6f9efc9ab",
   "metadata": {},
   "outputs": [],
   "source": []
  }
 ],
 "metadata": {
  "kernelspec": {
   "display_name": "Python 3 (ipykernel)",
   "language": "python",
   "name": "python3"
  },
  "language_info": {
   "codemirror_mode": {
    "name": "ipython",
    "version": 3
   },
   "file_extension": ".py",
   "mimetype": "text/x-python",
   "name": "python",
   "nbconvert_exporter": "python",
   "pygments_lexer": "ipython3",
   "version": "3.8.10"
  }
 },
 "nbformat": 4,
 "nbformat_minor": 5
}
