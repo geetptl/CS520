{
 "cells": [
  {
   "cell_type": "code",
   "execution_count": 2,
   "id": "2f408128-dbb0-49d4-ba74-62df2f540241",
   "metadata": {},
   "outputs": [],
   "source": [
    "import numpy as np\n",
    "import random\n",
    "from matplotlib import pyplot as plt\n",
    "from matplotlib.colors import ListedColormap, LinearSegmentedColormap\n",
    "\n",
    "from datetime import date"
   ]
  },
  {
   "cell_type": "code",
   "execution_count": 3,
   "id": "26586f8b-dbab-44d4-a4e5-37a472e8eaca",
   "metadata": {},
   "outputs": [],
   "source": [
    "def calculateNeighbours(location, t_size):\n",
    "    # We first calculate all 9 cells in the neighbourhood,\n",
    "    # and then filter out itself and the ones in the cross\n",
    "    # by filtering elements with manhattan distance not equal to one.\n",
    "    return list(filter(lambda x: abs(location[0]-x[0])+abs(location[1]-x[1])==1, [(x,y) for x in range(location[0]-1 if location[0]-1 > -1 else 0, location[0]+2 if location[0]+1<t_size else t_size) for y in range(location[1]-1 if location[1]-1 > -1 else 0, location[1]+2 if location[1]+1<t_size else t_size)]))"
   ]
  },
  {
   "cell_type": "code",
   "execution_count": 4,
   "id": "ccfed230-390c-41ce-ba8e-64733c5451db",
   "metadata": {},
   "outputs": [],
   "source": [
    "def generateGrid(t_size):\n",
    "    # Initially all cells are set as not visited\n",
    "    # 1 marks blocked, 0 marks unblocked, -1 for not visited\n",
    "    grid = np.full(shape = (t_size, t_size), fill_value = -1, dtype = np.int8)\n",
    "\n",
    "    # A random location on the grid to begin with, and mark it visited\n",
    "    begin = (random.randint(0, t_size - 1), random.randint(0, t_size-1))\n",
    "    grid[begin[0], begin[1]] = 1\n",
    "\n",
    "    # Using a stack as a frontier, so we can use DFS to generate the blocked paths\n",
    "    frontier = []\n",
    "    frontier.append(begin)\n",
    "    while(len(frontier) > 0):\n",
    "        current = frontier.pop()\n",
    "        # Calculating the current's neighbours\n",
    "        neighbours = calculateNeighbours(current, t_size)\n",
    "        for nx,ny in neighbours:\n",
    "            if grid[nx,ny] == -1:\n",
    "                # If the location is not visited, add it to the frontier\n",
    "                frontier.append((nx,ny))\n",
    "                # Mark it blocked or unblocked randomly\n",
    "                grid[nx,ny] = 1 if random.random() > 0.7 else 0\n",
    "    return grid"
   ]
  },
  {
   "cell_type": "code",
   "execution_count": 5,
   "id": "792e3e27-c00f-4e32-964a-a55854dd55f4",
   "metadata": {},
   "outputs": [
    {
     "name": "stdout",
     "output_type": "stream",
     "text": [
      "[[1 1 0 0 1 1 1 0 1 0]\n",
      " [1 1 0 0 0 0 1 0 0 0]\n",
      " [1 0 0 0 0 0 1 1 0 0]\n",
      " [0 0 0 0 1 0 0 0 0 0]\n",
      " [0 1 0 0 0 0 1 0 1 0]\n",
      " [0 0 1 0 1 0 1 0 0 0]\n",
      " [0 1 1 0 0 0 1 0 0 1]\n",
      " [0 0 0 0 1 0 1 0 0 0]\n",
      " [0 1 1 0 1 1 0 0 0 0]\n",
      " [0 1 0 0 0 1 0 0 0 0]]\n"
     ]
    },
    {
     "data": {
      "image/png": "[encoded data removed]",
      "text/plain": [
       "<Figure size 640x480 with 1 Axes>"
      ]
     },
     "metadata": {},
     "output_type": "display_data"
    }
   ],
   "source": [
    "# TEST_WORLDS = 5\n",
    "TEST_WORLD_SIZE = 10\n",
    "OUTPUT_BASE_PATH = \"Outputs/\"\n",
    "grid = generateGrid(TEST_WORLD_SIZE)\n",
    "today = date.today()\n",
    "\n",
    "print(grid)\n",
    "colormap = ListedColormap([\"white\",\"black\"])\n",
    "plt.xticks([])\n",
    "plt.yticks([])\n",
    "plt.imshow(X = grid, cmap = colormap)\n",
    "plt.savefig(OUTPUT_BASE_PATH + today.strftime(\"%d-%m-%Y\") + \"-plain_grid\" + \".svg\", bbox_inches=\"tight\")"
   ]
  }
 ],
 "metadata": {
  "kernelspec": {
   "display_name": "Python 3 (ipykernel)",
   "language": "python",
   "name": "python3"
  },
  "language_info": {
   "codemirror_mode": {
    "name": "ipython",
    "version": 3
   },
   "file_extension": ".py",
   "mimetype": "text/x-python",
   "name": "python",
   "nbconvert_exporter": "python",
   "pygments_lexer": "ipython3",
   "version": "3.8.10"
  }
 },
 "nbformat": 4,
 "nbformat_minor": 5
}
