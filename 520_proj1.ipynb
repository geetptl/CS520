{
 "cells": [
  {
   "cell_type": "code",
   "execution_count": null,
   "id": "2f408128-dbb0-49d4-ba74-62df2f540241",
   "metadata": {},
   "outputs": [],
   "source": [
    "import numpy as np\n",
    "import random\n",
    "from matplotlib import pyplot as plt\n",
    "import matplotlib.colors as mcolors\n",
    "from matplotlib.colors import ListedColormap, LinearSegmentedColormap\n",
    "from operator import itemgetter, attrgetter\n",
    "from datetime import date"
   ]
  },
  {
   "cell_type": "code",
   "execution_count": null,
   "id": "1a1256c1-94de-42c9-9e2d-5dbfdcde24c5",
   "metadata": {},
   "outputs": [],
   "source": [
    "# Constants\n",
    "\n",
    "NOT_VISITED = -1\n",
    "UNBLOCKED = 0\n",
    "BLOCKED = 1\n",
    "START = 2\n",
    "END = 3\n",
    "KNOWN_UNBLOCKED = 4\n",
    "KNOWN_BLOCKED = 5\n",
    "KNOWN_DEADEND = 6\n",
    "\n",
    "COLORMAP = {\n",
    "    NOT_VISITED : np.array([127,127,127]),\n",
    "    UNBLOCKED : np.array([255,255,255]),\n",
    "    BLOCKED : np.array([0,0,0]),\n",
    "    START : np.array([255,0,0]),\n",
    "    END : np.array([0,127,255]),\n",
    "    KNOWN_UNBLOCKED : np.array([248,131,121]),\n",
    "    KNOWN_BLOCKED : np.array([0,255,0]),\n",
    "    KNOWN_DEADEND : np.array([0,255,255])\n",
    "}\n",
    "\n",
    "TEST_WORLDS = 5\n",
    "TEST_WORLD_SIZE = 20\n",
    "\n",
    "OUTPUT_BASE_PATH = \"Outputs/\"\n",
    "TODAY = date.today()"
   ]
  },
  {
   "cell_type": "code",
   "execution_count": null,
   "id": "cd6503a6-69a5-4ef7-b6d9-656c44f137fc",
   "metadata": {},
   "outputs": [],
   "source": [
    "class MaxHeap:\n",
    "    def __init__(self):\n",
    "        self.elements = []\n",
    "        self.size = 0\n",
    "\n",
    "    def heapifyUpwards(self, i):\n",
    "        while i != 0:\n",
    "            p = (i - 1) // 2\n",
    "            if self.elements[i][0] > self.elements[p][0]:\n",
    "                self.elements[i], self.elements[p] = self.elements[p], self.elements[i]\n",
    "            i = p\n",
    "\n",
    "    def heapifyDownwards(self, i):\n",
    "        while i < self.size:\n",
    "            if 2 * (i + 1) >= self.size:\n",
    "                m = (2 * i) + 1\n",
    "            else:\n",
    "                m = (2 * i) + 1 if self.elements[(2 * i) + 1][0] > self.elements[2 * (i + 1)][0] else 2 * (i + 1)\n",
    "            if m>=self.size:\n",
    "                break\n",
    "            if self.elements[m][0] > self.elements[i][0]:\n",
    "                self.elements[i], self.elements[m] = self.elements[m], self.elements[i]\n",
    "            i = m\n",
    "\n",
    "    def insert(self, k):\n",
    "        self.elements.append(k)\n",
    "        self.size+=1\n",
    "        self.heapifyUpwards(self.size-1)\n",
    "\n",
    "    def peek(self):\n",
    "        print(self.elements)\n",
    "        return self.elements[0]\n",
    "\n",
    "    def pop(self):\n",
    "        k = self.elements[0]\n",
    "        self.elements[0] = self.elements[-1]\n",
    "        del self.elements[-1]\n",
    "        self.size-=1\n",
    "        self.heapifyDownwards(0)\n",
    "        return k\n",
    "\n",
    "m = MaxHeap()\n",
    "m.insert((1,'a'))\n",
    "m.insert((2,'c'))\n",
    "m.insert((1,'e'))\n",
    "m.insert((3,'a'))\n",
    "print(m.peek())\n",
    "m.pop()\n",
    "print(m.peek())\n",
    "m.insert((-1,'a'))\n",
    "print(m.peek())"
   ]
  },
  {
   "cell_type": "code",
   "execution_count": null,
   "id": "26586f8b-dbab-44d4-a4e5-37a472e8eaca",
   "metadata": {},
   "outputs": [],
   "source": [
    "def calculateAllNeighbours(location, t_size):\n",
    "    # We first calculate all 9 cells in the neighbourhood,\n",
    "    # and then filter out itself and the ones in the cross\n",
    "    # by filtering elements with manhattan distance not equal to one.\n",
    "    return list(filter(lambda x: abs(location[0]-x[0])+abs(location[1]-x[1])==1, [(x,y) for x in range(location[0]-1 if location[0]-1 > -1 else 0, location[0]+2 if location[0]+1<t_size else t_size) for y in range(location[1]-1 if location[1]-1 > -1 else 0, location[1]+2 if location[1]+1<t_size else t_size)]))"
   ]
  },
  {
   "cell_type": "code",
   "execution_count": null,
   "id": "e410894e-4daf-4027-8493-434aceb41ccb",
   "metadata": {},
   "outputs": [],
   "source": [
    "def getRandomCoordinates(t_size):\n",
    "    # Returns a tuple of coordinnates\n",
    "    return (random.randint(0, t_size - 1), random.randint(0, t_size-1))\n",
    "\n",
    "def getRandomCoordinatesInQuarter(t_size, quarter):\n",
    "    # Returns a tuple of coordinnates\n",
    "    t = t_size - 1\n",
    "    x = (0,int(t/4)) if quarter[0]==0 else (int(3*t/4), t)\n",
    "    y = (0,int(t/4)) if quarter[1]==0 else (int(3*t/4), t)\n",
    "    return (random.randint(x[0], x[1]), random.randint(y[0], y[1]))"
   ]
  },
  {
   "cell_type": "code",
   "execution_count": null,
   "id": "ccfed230-390c-41ce-ba8e-64733c5451db",
   "metadata": {},
   "outputs": [],
   "source": [
    "def generateEnvironment(t_size):\n",
    "    # Initially all cells are set as not visited\n",
    "    # 1 marks blocked, 0 marks unblocked, -1 for not visited\n",
    "    grid = np.full(shape = (t_size, t_size), fill_value = NOT_VISITED, dtype = np.int8)\n",
    "\n",
    "    # A random location on the grid to begin with, and mark it visited\n",
    "    begin = getRandomCoordinates(t_size)\n",
    "    grid[begin[0], begin[1]] = BLOCKED\n",
    "\n",
    "    # Using a stack as a frontier, so we can use DFS to generate the blocked paths\n",
    "    frontier = []\n",
    "    frontier.append(begin)\n",
    "    while(len(frontier) > 0):\n",
    "        current = frontier.pop()\n",
    "        # Calculating the current's neighbours\n",
    "        neighbours = calculateAllNeighbours(current, t_size)\n",
    "        for nx,ny in neighbours:\n",
    "            if grid[nx,ny] == NOT_VISITED:\n",
    "                # If the location is not visited, add it to the frontier\n",
    "                frontier.append((nx,ny))\n",
    "                # Mark it blocked or unblocked randomly\n",
    "                grid[nx,ny] = BLOCKED if random.random() > 0.7 else UNBLOCKED\n",
    "    start = getRandomCoordinatesInQuarter(TEST_WORLD_SIZE, (0,0))\n",
    "    reach = getRandomCoordinatesInQuarter(TEST_WORLD_SIZE, (1,1))\n",
    "    grid[start] = START\n",
    "    grid[reach] = END\n",
    "    return grid, start, reach"
   ]
  },
  {
   "cell_type": "code",
   "execution_count": null,
   "id": "cf41ceda-be1f-4815-b8ae-c3f373239ae1",
   "metadata": {},
   "outputs": [],
   "source": [
    "def showGrid(grid, name):\n",
    "    # Fancypants util that makes use of predefined colours\n",
    "    # for each data value in the grid and makes it easier to visualise\n",
    "    plt.xticks([])\n",
    "    plt.yticks([])\n",
    "    plt.imshow(X = [[COLORMAP[e] for e in row] for row in grid])\n",
    "    plt.savefig(OUTPUT_BASE_PATH + TODAY.strftime(\"%d-%m-%Y\") + \"-\" + name + \".png\", bbox_inches=\"tight\")"
   ]
  },
  {
   "cell_type": "code",
   "execution_count": null,
   "id": "3b82a781-b426-4e5e-ad63-840bcc159f33",
   "metadata": {},
   "outputs": [],
   "source": [
    "def initAgentKnowlegde(grid, start, reach):\n",
    "    agentKnowledge = np.full(shape = grid.shape, fill_value = NOT_VISITED, dtype = np.int8)\n",
    "    agentKnowledge[start] = START\n",
    "    agentKnowledge[reach] = END\n",
    "    return agentKnowledge"
   ]
  },
  {
   "cell_type": "code",
   "execution_count": null,
   "id": "2269821c-54e8-4a6d-b741-ffeea51e3938",
   "metadata": {},
   "outputs": [],
   "source": [
    "def manhattanDistance(pos1, pos2):\n",
    "    # pos1 and pos2 are coordinates\n",
    "    return abs(pos2[1] - pos1[1]) + abs(pos2[0] - pos1[0])"
   ]
  },
  {
   "cell_type": "code",
   "execution_count": null,
   "id": "792e3e27-c00f-4e32-964a-a55854dd55f4",
   "metadata": {},
   "outputs": [],
   "source": [
    "environment, start, reach = generateEnvironment(TEST_WORLD_SIZE)\n",
    "showGrid(environment, \"base_environment\")"
   ]
  },
  {
   "cell_type": "code",
   "execution_count": null,
   "id": "14d357db-5691-4549-aa56-78e6dc0edde5",
   "metadata": {},
   "outputs": [],
   "source": [
    "agentKnowledge = initAgentKnowlegde(environment, start, reach)\n",
    "showGrid(agentKnowledge, \"agent_starts_with\")"
   ]
  },
  {
   "cell_type": "code",
   "execution_count": null,
   "id": "752da78d-edf5-487c-a30c-64af5fb73656",
   "metadata": {},
   "outputs": [],
   "source": [
    "def maxEvaluatedNeighbour(LeafNodes, evaluationFunction, environment):\n",
    "    neighbourOrder = []\n",
    "    for i,j in LeafNodes:\n",
    "        neighbourOrder.append((i,j,evaluationFunction[i,j]))\n",
    "    return sorted(neighbourOrder, key=itemgetter(2), reverse=True)"
   ]
  },
  {
   "cell_type": "code",
   "execution_count": null,
   "id": "fc234d1b-de65-4291-a758-d442792730a6",
   "metadata": {},
   "outputs": [],
   "source": [
    "def AStar(environment, agentKnowledge, start, reach):\n",
    "    ## Function g(s) initialization\n",
    "    gcostFunction = np.full(shape = environment.shape, fill_value = 0, dtype = np.int64)\n",
    "    ## Functon h(s) initialization\n",
    "    hueristicFunction  = np.full(shape = environment.shape, fill_value = 0, dtype = np.int64)\n",
    "    ## Function f(s) \n",
    "    evaluationFunction = np.full(shape = environment.shape, fill_value = 0, dtype = np.int64)\n",
    "    path = [] \n",
    "    pathlength = 0\n",
    "    ## Structure similar to DFS. \n",
    "    openList = []\n",
    "    closeList = []\n",
    "    target = []\n",
    "    newNeighbours = []\n",
    "    openList.append(start)\n",
    "    gcostFunction[start[0],start[1]] = 0\n",
    "    hueristicFunction[start[0],start[1]] = manhattanDistance(start,reach)\n",
    "    evaluationFunction[start[0],start[1]] = gcostFunction[start[0],start[1]] + hueristicFunction[start[0],start[1]] \n",
    "    while(len(openList)>0):\n",
    "        current = openList.pop()\n",
    "        closeList.append(current)\n",
    "        pathlength = pathlength + 1\n",
    "        if current==reach:\n",
    "            return \"CellFound\", pathlength, gcostFunction, hueristicFunction, evaluationFunction\n",
    "        LeafNodes = list(filter(lambda x: environment[x]==UNBLOCKED, calculateAllNeighbours(current, TEST_WORLD_SIZE)))\n",
    "        for nx,ny in LeafNodes:\n",
    "            gcostFunction[nx,ny] = gcostFunction[current] + 1\n",
    "            hueristicFunction[nx,ny] = manhattanDistance((nx,ny),reach)\n",
    "            evaluationFunction[nx,ny] = gcostFunction[nx,ny] + hueristicFunction[nx,ny]\n",
    "        newNeighbours = maxEvaluatedNeighbour(LeafNodes,evaluationFunction,environment)\n",
    "        for nx,ny,nz in newNeighbours:\n",
    "            openList.append((nx,ny))\n",
    "    return \"NotFound\", hueristicFunction, evaluationFunction, len(newNeighbours), reach"
   ]
  },
  {
   "cell_type": "code",
   "execution_count": null,
   "id": "1d03297a-d544-4653-82fe-56523264caf9",
   "metadata": {},
   "outputs": [],
   "source": [
    "AStar(environment, agentKnowledge, start, reach)"
   ]
  }
 ],
 "metadata": {
  "kernelspec": {
   "display_name": "Python 3 (ipykernel)",
   "language": "python",
   "name": "python3"
  },
  "language_info": {
   "codemirror_mode": {
    "name": "ipython",
    "version": 3
   },
   "file_extension": ".py",
   "mimetype": "text/x-python",
   "name": "python",
   "nbconvert_exporter": "python",
   "pygments_lexer": "ipython3",
   "version": "3.8.10"
  }
 },
 "nbformat": 4,
 "nbformat_minor": 5
}
